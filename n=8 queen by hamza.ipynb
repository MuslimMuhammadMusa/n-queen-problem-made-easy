{
 "cells": [
  {
   "cell_type": "code",
   "execution_count": 2,
   "id": "ced5205e",
   "metadata": {},
   "outputs": [
    {
     "data": {
      "text/plain": [
       "'\\n04157263\\n\\n'"
      ]
     },
     "execution_count": 2,
     "metadata": {},
     "output_type": "execute_result"
    }
   ],
   "source": [
    "N=8\n",
    "\"\"\"\n",
    "04157263\n",
    "\n",
    "\"\"\""
   ]
  },
  {
   "cell_type": "code",
   "execution_count": 10,
   "id": "b1edf0e3",
   "metadata": {},
   "outputs": [],
   "source": [
    "from random import randint\n"
   ]
  },
  {
   "cell_type": "code",
   "execution_count": 11,
   "id": "14ed748e",
   "metadata": {},
   "outputs": [],
   "source": [
    "def initpopulation(n):\n",
    "    pop=[]\n",
    "    for i in range(n):\n",
    "        pop.append([randint(0,7) for j in range(N)])\n",
    "    return pop\n"
   ]
  },
  {
   "cell_type": "code",
   "execution_count": 12,
   "id": "8d3e4944",
   "metadata": {},
   "outputs": [],
   "source": []
  },
  {
   "cell_type": "code",
   "execution_count": 13,
   "id": "4d704234",
   "metadata": {},
   "outputs": [],
   "source": [
    "def mutation(arr1):\n",
    "    x=randint(0,7)\n",
    "    y=randint(0,7)\n",
    "    arr1[x],arr1[y]=arr1[y],arr1[x]\n",
    "    return arr1\n"
   ]
  },
  {
   "cell_type": "code",
   "execution_count": 14,
   "id": "48ef3fe3",
   "metadata": {},
   "outputs": [],
   "source": [
    "def fitness(arr1):\n",
    "    attack=0\n",
    "    for i in range(0,N):\n",
    "        for j in range(i+1,N):\n",
    "            qi=arr1[i]\n",
    "            qj=arr1[j]\n",
    "            # i, qi\n",
    "            # j, qj\n",
    "            if qi==qj:\n",
    "                attack+=1\n",
    "            else:\n",
    "                if abs(i-j)==abs(qi-qj):\n",
    "                    attack+=1\n",
    "    return attack # low attack is better"
   ]
  },
  {
   "cell_type": "code",
   "execution_count": 15,
   "id": "36befff2",
   "metadata": {
    "scrolled": false
   },
   "outputs": [
    {
     "name": "stdout",
     "output_type": "stream",
     "text": [
      "Generation 0: Best = 2\n",
      "Generation 1: Best = 1\n",
      "Generation 2: Best = 1\n",
      "Generation 3: Best = 1\n",
      "Generation 4: Best = 1\n",
      "Generation 5: Best = 1\n",
      "Generation 6: Best = 1\n",
      "Generation 7: Best = 1\n",
      "Generation 8: Best = 1\n",
      "Generation 9: Best = 1\n",
      "Generation 10: Best = 1\n",
      "Generation 11: Best = 1\n",
      "Generation 12: Best = 1\n",
      "Generation 13: Best = 1\n",
      "Generation 14: Best = 1\n",
      "Generation 15: Best = 1\n",
      "Generation 16: Best = 1\n",
      "Generation 17: Best = 1\n",
      "Generation 18: Best = 1\n",
      "Generation 19: Best = 1\n",
      "Generation 20: Best = 1\n",
      "Generation 21: Best = 1\n",
      "Generation 22: Best = 1\n",
      "Generation 23: Best = 1\n",
      "Generation 24: Best = 1\n",
      "Generation 25: Best = 1\n",
      "Generation 26: Best = 1\n",
      "Generation 27: Best = 1\n",
      "Generation 28: Best = 1\n",
      "Generation 29: Best = 1\n",
      "Generation 30: Best = 1\n",
      "Generation 31: Best = 1\n",
      "Generation 32: Best = 1\n",
      "Generation 33: Best = 1\n",
      "Generation 34: Best = 1\n",
      "Generation 35: Best = 1\n",
      "Generation 36: Best = 1\n",
      "Generation 37: Best = 1\n",
      "Generation 38: Best = 1\n",
      "Generation 39: Best = 1\n",
      "Generation 40: Best = 1\n",
      "Generation 41: Best = 1\n",
      "Generation 42: Best = 1\n",
      "Generation 43: Best = 1\n",
      "Generation 44: Best = 1\n",
      "Generation 45: Best = 1\n",
      "Generation 46: Best = 1\n",
      "Generation 47: Best = 1\n",
      "Generation 48: Best = 1\n",
      "Generation 49: Best = 1\n",
      "[2, 4, 1, 7, 5, 1, 6, 0]\n"
     ]
    }
   ],
   "source": [
    "population = initpopulation(100)\n",
    "population.sort(key=lambda x:fitness(x))\n",
    "\n",
    "generations = 50\n",
    "for i in range(generations):\n",
    "    for j in range(100):\n",
    "        parent1=randint(0,99)\n",
    "        parent2=randint(0,99)\n",
    "        child=crossover(population[parent1],population[parent2])\n",
    "        prob=randint(0,100)\n",
    "        mutationrate=5\n",
    "        if prob < mutationrate:\n",
    "            child=mutation(child)\n",
    "        population.append(child)\n",
    "    \n",
    "    population.sort(key=lambda x:fitness(x))\n",
    "    population=population[:100]\n",
    "    \n",
    "    print(\"Generation {}: Best = {}\".format(i,fitness(population[0])))\n",
    "\n",
    "print(population[0])"
   ]
  },
  {
   "cell_type": "code",
   "execution_count": null,
   "id": "58cb2460",
   "metadata": {},
   "outputs": [],
   "source": [
    "\n"
   ]
  },
  {
   "cell_type": "code",
   "execution_count": null,
   "id": "d1af5d70",
   "metadata": {},
   "outputs": [],
   "source": []
  }
 ],
 "metadata": {
  "kernelspec": {
   "display_name": "Python 3 (ipykernel)",
   "language": "python",
   "name": "python3"
  },
  "language_info": {
   "codemirror_mode": {
    "name": "ipython",
    "version": 3
   },
   "file_extension": ".py",
   "mimetype": "text/x-python",
   "name": "python",
   "nbconvert_exporter": "python",
   "pygments_lexer": "ipython3",
   "version": "3.11.3"
  }
 },
 "nbformat": 4,
 "nbformat_minor": 5
}
